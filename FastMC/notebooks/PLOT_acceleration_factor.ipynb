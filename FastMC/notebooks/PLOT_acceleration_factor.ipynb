{
 "cells": [
  {
   "cell_type": "code",
   "execution_count": 1,
   "metadata": {},
   "outputs": [],
   "source": [
    "import csv\n",
    "import sys\n",
    "#sys.path.insert(0, \"../runit/\")\n",
    "sys.path.insert(0,\"../python/\")\n",
    "from MC_Plots import style\n",
    "from Sigma_study import energy\n",
    "\n",
    "import numpy as np\n",
    "\n",
    "\n",
    "\n",
    "import collections\n",
    "import random\n",
    "import matplotlib.pyplot as plt\n",
    "from matplotlib import pyplot as pp\n",
    "from scipy.stats import chisquare\n",
    "from scipy.optimize import curve_fit\n",
    "from sympy.solvers import solve\n",
    "from sympy import Symbol\n",
    "import os\n",
    "import re\n",
    "import fnmatch\n",
    "import pandas as pd\n",
    "import matplotlib.font_manager\n",
    "from math import isnan\n",
    "\n",
    "\n",
    "plt.rc('text', usetex=True)\n",
    "import lmfit\n",
    "\n",
    "from lmfit import Model"
   ]
  },
  {
   "cell_type": "code",
   "execution_count": 2,
   "metadata": {},
   "outputs": [],
   "source": [
    "ps = style(figure_width = 9,\n",
    "                 spine_color= 'Black')"
   ]
  },
  {
   "cell_type": "code",
   "execution_count": 3,
   "metadata": {},
   "outputs": [],
   "source": [
    "en= energy(energy= 1500,edep_max=250)"
   ]
  },
  {
   "cell_type": "code",
   "execution_count": 4,
   "metadata": {},
   "outputs": [],
   "source": [
    "#Eather calculate the sigmas or load them. \n",
    "\n",
    "#sigmas=en.get_sigmas() #Calculate the sigmas of the different simulations \n",
    "\n",
    "\n",
    "sigmas_arr=np.load('sigmas%i.npy'%en.energy)#load sigmas\n",
    "sigmas=sigmas_arr.tolist()\n",
    "\n"
   ]
  },
  {
   "cell_type": "code",
   "execution_count": 5,
   "metadata": {},
   "outputs": [],
   "source": [
    "#Fit fuction\n",
    "def func (x,a,c):\n",
    "    return (a/np.sqrt(x))+c"
   ]
  },
  {
   "cell_type": "code",
   "execution_count": 6,
   "metadata": {},
   "outputs": [
    {
     "data": {
      "image/png": "[encoded data removed]",
      "text/plain": [
       "<Figure size 648x400.486 with 1 Axes>"
      ]
     },
     "metadata": {},
     "output_type": "display_data"
    }
   ],
   "source": [
    "ns=en.find_ns()\n",
    "\n",
    "#find first non nan value in non-vrt sigmas\n",
    "non_vrt_start=sigmas[1].index(next(filter(lambda x: not isnan(x), sigmas[1]))) \n",
    "#non_vrt_start=3\n",
    "\n",
    "#Get the x,y and error and couple them to make a combined fit.\n",
    "y1 = np.array(sigmas[0])\n",
    "y2 = np.array(sigmas[1][non_vrt_start:])#only take the non-zero sigmas (leave the small non-vrt out of the fit)\n",
    "comboY = np.append(y1, y2)\n",
    "\n",
    "x1 = np.array(ns)\n",
    "x2 = np.array(ns[non_vrt_start:])\n",
    "comboX = np.append(x1, x2)\n",
    "\n",
    "\n",
    "#Calculate the error on the weight to use in the fit\n",
    "s1=np.square(sigmas[0])*2\n",
    "s2=np.square(sigmas[1][non_vrt_start:])*2\n",
    "comboS = np.append(s1,s2)\n",
    "\n",
    "\n",
    "\n",
    "#make do the fit\n",
    "a,b,c=en.do_fit(sigmas=sigmas)\n",
    "\n",
    "\n",
    "#Drawing part of making the plots\n",
    "ps.latexify()\n",
    "fig , ax=plt.subplots(1,1)\n",
    "\n",
    "\n",
    "#set range of the fit-line just visual\n",
    "xfit_vrt= range(ns[0],ns[-1])\n",
    "xfit_nonvrt= range(ns[1],ns[-1])\n",
    "\n",
    "#plot fit-lines\n",
    "ax.plot(xfit_vrt,func(xfit_vrt,a,c),'-' , color=\"Blue\")\n",
    "ax.plot(xfit_nonvrt,func(xfit_nonvrt,b,c),'--',color=\"Red\")\n",
    "\n",
    "#plot the points with error bar\n",
    "ax.errorbar(ns,y1, yerr=s1, fmt='D',color='Blue')\n",
    "ax.errorbar(ns[3:],y2, yerr=s2, fmt='o',color=\"Red\")\n",
    "\n",
    "#calculate acceleration factor\n",
    "acc_fac=(b/a)**2\n",
    "\n",
    "#horizonthal line\n",
    "ax.annotate(\"\", xy=(ns[2], func(ns[2],a,c)), xytext=(ns[2]*acc_fac, func(ns[2],a,c)),\n",
    "             arrowprops=dict(arrowstyle=\"<->\"))# annotate because that scales better than arrow\n",
    "\n",
    "x_point_alpha = np.sqrt(ns[2]*(ns[2]*acc_fac))#place alpha in the middel of the arrow\n",
    "\n",
    "ax.text(x_point_alpha,func(ns[2],a,c),r'$\\alpha$',color='black',fontsize=25,\n",
    "        horizontalalignment='left',verticalalignment='bottom')\n",
    "\n",
    "\n",
    "ax.set_yscale('log')\n",
    "ax.set_xscale('log')\n",
    "ax.set_ylabel(r'$\\\\\\sigma / \\bar{x}$',fontsize=29)\n",
    "\n",
    "ax.set_xlabel('$N_{\\gamma}$')\n",
    "ax.legend(['VRT','Standard MC'],loc='upper right',frameon=False)\n",
    "\n",
    "ps.format_axes(ax)\n",
    "\n",
    "#plt.savefig('sigmaVSn_%i.pdf' %en.energy)\n",
    "\n",
    "plt.show()"
   ]
  },
  {
   "cell_type": "code",
   "execution_count": null,
   "metadata": {},
   "outputs": [],
   "source": [
    "\n"
   ]
  },
  {
   "cell_type": "code",
   "execution_count": null,
   "metadata": {},
   "outputs": [],
   "source": []
  },
  {
   "cell_type": "code",
   "execution_count": null,
   "metadata": {},
   "outputs": [],
   "source": []
  },
  {
   "cell_type": "code",
   "execution_count": null,
   "metadata": {},
   "outputs": [],
   "source": []
  },
  {
   "cell_type": "code",
   "execution_count": 13,
   "metadata": {},
   "outputs": [],
   "source": []
  },
  {
   "cell_type": "code",
   "execution_count": null,
   "metadata": {},
   "outputs": [],
   "source": []
  },
  {
   "cell_type": "code",
   "execution_count": null,
   "metadata": {},
   "outputs": [],
   "source": []
  },
  {
   "cell_type": "code",
   "execution_count": null,
   "metadata": {},
   "outputs": [],
   "source": []
  },
  {
   "cell_type": "code",
   "execution_count": null,
   "metadata": {},
   "outputs": [],
   "source": []
  },
  {
   "cell_type": "code",
   "execution_count": 35,
   "metadata": {},
   "outputs": [],
   "source": []
  },
  {
   "cell_type": "code",
   "execution_count": null,
   "metadata": {},
   "outputs": [],
   "source": []
  }
 ],
 "metadata": {
  "kernelspec": {
   "display_name": "Python 3",
   "language": "python",
   "name": "python3"
  },
  "language_info": {
   "codemirror_mode": {
    "name": "ipython",
    "version": 3
   },
   "file_extension": ".py",
   "mimetype": "text/x-python",
   "name": "python",
   "nbconvert_exporter": "python",
   "pygments_lexer": "ipython3",
   "version": "3.6.5"
  }
 },
 "nbformat": 4,
 "nbformat_minor": 2
}

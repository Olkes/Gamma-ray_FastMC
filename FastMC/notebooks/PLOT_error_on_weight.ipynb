{
 "cells": [
  {
   "cell_type": "code",
   "execution_count": 2,
   "metadata": {},
   "outputs": [],
   "source": [
    "import csv\n",
    "import sys\n",
    "#sys.path.insert(0, \"../runit/\")\n",
    "sys.path.insert(0,\"../python/\")\n",
    "from MC_Plots import style\n",
    "from Sigma_study import energy\n",
    "\n",
    "import numpy as np\n",
    "\n",
    "import collections\n",
    "import random\n",
    "import matplotlib.pyplot as plt\n",
    "from matplotlib import pyplot as pp\n",
    "from scipy.stats import chisquare\n",
    "from scipy.optimize import curve_fit\n",
    "from sympy.solvers import solve\n",
    "from sympy import Symbol\n",
    "import os\n",
    "import re\n",
    "import fnmatch\n",
    "import pandas as pd\n",
    "import matplotlib.font_manager\n",
    "\n",
    "import lmfit\n",
    "\n",
    "from tempfile import TemporaryFile\n",
    "\n",
    "\n",
    "plt.rc('text', usetex=True)\n",
    "\n",
    "\n",
    "from lmfit import Model"
   ]
  },
  {
   "cell_type": "code",
   "execution_count": 2,
   "metadata": {},
   "outputs": [],
   "source": [
    "ps = style(figure_width = 9,spine_color= 'Black')"
   ]
  },
  {
   "cell_type": "code",
   "execution_count": 4,
   "metadata": {},
   "outputs": [],
   "source": [
    "en= energy(energy= 1500,edep_max=250)"
   ]
  },
  {
   "cell_type": "code",
   "execution_count": null,
   "metadata": {},
   "outputs": [],
   "source": [
    "#calculate the total weight of the ref MC\n",
    "#only do this the first time you run the notebook\n",
    "#and after it's not necessary \n",
    "\n",
    "\n",
    "# en_ref= energy(energy= en.energy,edep_max=en.edep_max,Type='ref')\n",
    "\n",
    "# tw=en_ref.total_weight(10000000,famsize=100)\n",
    "# np.save('twrefMC%i'%en_ref.energy,tw)"
   ]
  },
  {
   "cell_type": "code",
   "execution_count": 4,
   "metadata": {},
   "outputs": [
    {
     "name": "stdout",
     "output_type": "stream",
     "text": [
      "1\n",
      "2\n",
      "1\n",
      "2\n",
      "3\n",
      "4\n",
      "5\n",
      "6\n",
      "7\n",
      "8\n",
      "9\n",
      "10\n",
      "1\n",
      "2\n",
      "1\n",
      "2\n",
      "3\n",
      "4\n",
      "5\n",
      "6\n",
      "7\n",
      "8\n",
      "9\n",
      "10\n",
      "1\n",
      "2\n",
      "1\n",
      "2\n",
      "3\n",
      "4\n",
      "5\n",
      "6\n",
      "7\n",
      "8\n",
      "9\n",
      "10\n",
      "1\n",
      "2\n",
      "1\n",
      "2\n",
      "3\n",
      "4\n",
      "5\n",
      "6\n",
      "7\n",
      "8\n",
      "9\n",
      "10\n"
     ]
    }
   ],
   "source": [
    "#load files and calculate total weights\n",
    "arr_tot_weight_vrt=[]\n",
    "arr_tot_weight_nonvrt=[]\n",
    "\n",
    "ns=np.array([10000,100000,1000000,10000000])#no use in showing the smal simulations \n",
    "for i in ns:\n",
    "    arr_tot_weight_nonvrt.append(en.total_weight(i,vrt='None',famsize=2)[0][1])\n",
    "    #we use fam number 2 same as other plots\n",
    "    \n",
    "    arr_tot_weight_vrt.append(en.total_weight(i)[0])\n",
    "    #arr_sigma_vrt.append(en.get_sigma(i))\n",
    "    \n",
    "tot_weight_vrt = np.array(arr_tot_weight_vrt)[:,0]#pick 1 tot weight to cal relative differance    \n",
    "arr_tot_weight_nonvrt = np.array(arr_tot_weight_nonvrt)\n",
    "arr_sigma_vrt=np.sqrt(np.var(arr_tot_weight_vrt,axis=1)) / np.mean(arr_tot_weight_vrt,axis=1)\n",
    "#error is calculated by the Var of the whole fam\n"
   ]
  },
  {
   "cell_type": "code",
   "execution_count": 5,
   "metadata": {},
   "outputs": [
    {
     "name": "stdout",
     "output_type": "stream",
     "text": [
      "[  0.35214021   3.18922671  31.62852196 314.12662313]\n",
      "[0.07669648 0.01719353 0.00666463 0.00140043]\n",
      "[  1.   2.  42. 306.]\n"
     ]
    }
   ],
   "source": [
    "#prtint values \n",
    "print(tot_weight_vrt)\n",
    "print(arr_sigma_vrt)\n",
    "print(arr_tot_weight_nonvrt)"
   ]
  },
  {
   "cell_type": "code",
   "execution_count": 6,
   "metadata": {},
   "outputs": [],
   "source": [
    "#load ref MC\n",
    "ref=np.load('twrefMC%i.npy'%en.energy)\n",
    "Nbg_ref=np.array(ns)*np.mean(ref[1])"
   ]
  },
  {
   "cell_type": "code",
   "execution_count": 7,
   "metadata": {},
   "outputs": [],
   "source": [
    "#calculate relative differance \n",
    "VRT_diff= ((tot_weight_vrt.flatten()-Nbg_ref)/Nbg_ref)\n",
    "NONVRT_diff= ((arr_tot_weight_nonvrt.flatten()-Nbg_ref)/Nbg_ref)\n"
   ]
  },
  {
   "cell_type": "code",
   "execution_count": 11,
   "metadata": {},
   "outputs": [
    {
     "name": "stdout",
     "output_type": "stream",
     "text": [
      "[0.12275632 0.01684623 0.00843703 0.00155461]\n",
      "[ 2.18837863 -0.36232427  0.33911902 -0.02435614]\n"
     ]
    }
   ],
   "source": [
    "print(VRT_diff)\n",
    "print(NONVRT_diff)"
   ]
  },
  {
   "cell_type": "code",
   "execution_count": 8,
   "metadata": {},
   "outputs": [],
   "source": [
    "#calculate error on points \n",
    "error_vrt=arr_sigma_vrt\n",
    "error_nonvrt=(np.sqrt(arr_tot_weight_nonvrt).flatten())/Nbg_ref"
   ]
  },
  {
   "cell_type": "code",
   "execution_count": 9,
   "metadata": {},
   "outputs": [
    {
     "data": {
      "image/png": "[encoded data removed]",
      "text/plain": [
       "<Figure size 648x400.486 with 1 Axes>"
      ]
     },
     "metadata": {},
     "output_type": "display_data"
    }
   ],
   "source": [
    "#method with lowwer limmit on error bar\n",
    "ps.latexify()\n",
    "nb=100\n",
    "fig , ax=plt.subplots(1,1)\n",
    "\n",
    "\n",
    "x= np.linspace(0,20000000,num=nb*100)\n",
    "ax.plot(x,np.zeros(len(x)),color='Black',label='Reference MC')\n",
    "\n",
    "#separate the points\n",
    "x_vrt= ns*1.05\n",
    "x_nonvrt= ns*0.95\n",
    "\n",
    "#plot the points with error bar\n",
    "ax.errorbar(x_vrt,VRT_diff, yerr=error_vrt, fmt='D',label='VRT',color='Blue')\n",
    "ax.errorbar(x_nonvrt,NONVRT_diff, yerr=error_nonvrt, fmt='o',color=\"Red\",label='Standard MC')\n",
    "\n",
    "\n",
    "\n",
    "ax.set_xscale('log')\n",
    "ax.legend(loc='upper right',frameon=False)\n",
    "ax.set_xlabel(r'$N_{\\gamma}$')\n",
    "\n",
    "ax.set_ylabel( r'\\begin{eqnarray*}' + \\\n",
    "      r'\\frac{N_{BG} - \\mu_{BG}} {\\mu_{BG} } '+ \\\n",
    "      r'\\end{eqnarray*}')\n",
    "ax.set_ylim(-1.3,3)\n",
    "ax.set_xlim(5000,20000000)\n",
    "\n",
    "ax.tick_params(direction='in', which='both')\n",
    "ax.tick_params(axis='both', which='major', pad=10)\n",
    "\n",
    "ps.format_axes(ax)\n",
    "plt.savefig('val:totalweight_error.pdf', bbox_inches = \"tight\")\n",
    "\n",
    "\n",
    "plt.show()\n"
   ]
  }
 ],
 "metadata": {
  "kernelspec": {
   "display_name": "Python 3",
   "language": "python",
   "name": "python3"
  },
  "language_info": {
   "codemirror_mode": {
    "name": "ipython",
    "version": 3
   },
   "file_extension": ".py",
   "mimetype": "text/x-python",
   "name": "python",
   "nbconvert_exporter": "python",
   "pygments_lexer": "ipython3",
   "version": "3.6.5"
  }
 },
 "nbformat": 4,
 "nbformat_minor": 2
}

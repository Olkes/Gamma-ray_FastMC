{
 "cells": [
  {
   "cell_type": "code",
   "execution_count": 7,
   "metadata": {},
   "outputs": [],
   "source": [
    "import csv\n",
    "import sys\n",
    "#sys.path.insert(0, \"../runit/\")\n",
    "sys.path.insert(0,\"../python/\")\n",
    "from MC_Plots import style\n",
    "from Sigma_study import energy\n",
    "\n",
    "import numpy as np\n",
    "\n",
    "\n",
    "\n",
    "import collections\n",
    "import random\n",
    "import matplotlib.pyplot as plt\n",
    "from matplotlib import pyplot as pp\n",
    "from scipy.stats import chisquare\n",
    "from scipy.optimize import curve_fit\n",
    "from sympy.solvers import solve\n",
    "from sympy import Symbol\n",
    "import os\n",
    "import re\n",
    "import fnmatch\n",
    "import pandas as pd\n",
    "import matplotlib.font_manager\n",
    "\n",
    "\n",
    "import lmfit\n",
    "\n",
    "from lmfit import Model\n",
    "\n",
    "from tempfile import TemporaryFile\n"
   ]
  },
  {
   "cell_type": "code",
   "execution_count": 8,
   "metadata": {},
   "outputs": [],
   "source": [
    "ps = style(figure_width = 9,\n",
    "                 spine_color= 'Black')"
   ]
  },
  {
   "cell_type": "code",
   "execution_count": 9,
   "metadata": {},
   "outputs": [],
   "source": [
    "en= energy(energy= 1500,edep_max=250)"
   ]
  },
  {
   "cell_type": "code",
   "execution_count": 10,
   "metadata": {},
   "outputs": [],
   "source": [
    "#calculate the total weight of the ref MC\n",
    "#only do this the first time you run the notebook\n",
    "#and after it's not necessary \n",
    "\n",
    "\n",
    "# en_ref= energy(energy= en.energy,edep_max=en.edep_max,Type='ref')\n",
    "\n",
    "# tw=en_ref.total_weight(10000000,famsize=100)\n",
    "# np.save('twrefMC%i'%en_ref.energy,tw)\n",
    "\n"
   ]
  },
  {
   "cell_type": "markdown",
   "metadata": {},
   "source": [
    "## Make Grap of total weight distributions "
   ]
  },
  {
   "cell_type": "markdown",
   "metadata": {},
   "source": [
    "Function to make the distributions. Important note that for small simulations (10^4) you sometimes have to relocate the legend"
   ]
  },
  {
   "cell_type": "code",
   "execution_count": 12,
   "metadata": {},
   "outputs": [],
   "source": [
    "#function\n",
    "def tenbase_format(x):\n",
    "    # Nicely format the value of sigma into a cool label\n",
    "    exponent = np.floor(np.log10(x))\n",
    "    xstr = r'$10^{%d}$' %exponent\n",
    "    return xstr\n",
    "\n",
    "def tenbase_format_tex(x):\n",
    "    # Nicely format the value of sigma into a cool label\n",
    "    exponent = np.floor(np.log10(x))\n",
    "    xstr = '%.1f \\\\cdot 10^{%d}' % (x / (10**(exponent)), exponent)\n",
    "    return xstr\n",
    "\n",
    "\n",
    "\n",
    "def mk_plot(events,nbins,marge):    \n",
    "    #find how large the families are  \n",
    "    fam_size_vrt=en.find_fam_size(events,vrt='fiducial_scatter',size_fiducial='Normal ')\n",
    "    fam_size_nonvrt=en.find_fam_size(events,vrt='None',size_fiducial='Normal ')\n",
    "\n",
    "    vrt = []\n",
    "    nonvrt=[]\n",
    "\n",
    "    #Calculate the total weights    \n",
    "    tw_vrt = en.total_weight(nevents=events,famsize=fam_size_vrt)\n",
    "    tw_nonvrt = en.total_weight(events,vrt='None',famsize=fam_size_nonvrt)\n",
    "\n",
    "\n",
    "    #n_tilde from ref\n",
    "    ref=np.load('twrefMC%i.npy'%en.energy)\n",
    "    n_tilde=np.mean(ref[1])*events\n",
    "    \n",
    "\n",
    "    #Drawing part of making the plots\n",
    "    xmin = min(tw_nonvrt[0])-marge\n",
    "    xmax= max(tw_nonvrt[0])+marge\n",
    "    \n",
    "    ps.latexify()\n",
    "    fig , ax=plt.subplots(1,1,sharex=True)\n",
    "    #vrt dist\n",
    "    tw_vrt_histarr=ax.hist(tw_vrt[0],histtype='step',range=(xmin,xmax),\n",
    "                           bins=nbins,label='VRT',linewidth=1,color='blue')\n",
    "    \n",
    "    #non vrt dist\n",
    "    tw_nonvrt_histarr=ax.hist(tw_nonvrt[0],range=(xmin,xmax),bins=nbins,histtype='step'\n",
    "                              ,label='Standard MC',color='Red',linestyle='dashed',linewidth=1)\n",
    "    \n",
    "    #line of the expected total weight based on ntilde MC\n",
    "    binsize= (xmax-xmin)/nbins\n",
    "    ax.plot([n_tilde, n_tilde], [0, max(tw_vrt_histarr[0])*1.3], color='Black', ls='--', lw=2,label='reference MC')\n",
    "    \n",
    "    \n",
    "    leg=ax.legend(loc='upper right',frameon=False,fontsize=22)\n",
    "\n",
    "    #Calculate the mean and the variance and print them\n",
    "    mu_vrt=np.mean(tw_vrt[0])\n",
    "    var_vrt=np.sqrt(np.var(tw_vrt[0]))\n",
    "\n",
    "    mu_nonvrt=np.mean(tw_nonvrt[0])\n",
    "    var_nonvrt=np.sqrt(np.var(tw_nonvrt[0]))\n",
    "    \n",
    "    f_ntilde=tenbase_format_tex(n_tilde)\n",
    "    f_mu_vrt=tenbase_format_tex(mu_vrt)\n",
    "    f_var_vrt=tenbase_format_tex(var_vrt)\n",
    "    f_mu_nonvrt=tenbase_format_tex(mu_nonvrt)\n",
    "    f_var_nonvrt=tenbase_format_tex(var_nonvrt)\n",
    "\n",
    "    text = r'\\begin{eqnarray*}' + \\\n",
    "      r'\\mu_{BG} &=&'+str(f_ntilde)+ \\\n",
    "      r'\\\\\\bar{x}_{VRT} &=&' +str(f_mu_vrt)+ \\\n",
    "      r'\\\\\\sigma_{VRT} &=&' +str(f_var_vrt)+ \\\n",
    "      r'\\\\\\bar{x}_{MC} &=&' +str(f_mu_nonvrt)+ \\\n",
    "      r'\\\\\\sigma_{MC} &=&' +str(f_var_nonvrt)+ \\\n",
    "      r'\\end{eqnarray*}'\n",
    "\n",
    "    ax.plot([], [], ' ', label=text) # use this for 10^4 plot \n",
    "    #ax.text(xmin, 7.5, text, ha='left',va='top',fontsize=22) # use this for the rest \n",
    "\n",
    "\n",
    "    ps.reorderLegend(ax,['VRT', 'Standard MC','reference MC', text])\n",
    "    ax.set_ylim(0,8)# 10 for 10^4 plot \n",
    "\n",
    "    ps.format_axes(ax)\n",
    "    plt.rcParams['legend.fontsize'] = 22\n",
    "\n",
    "    ax.set_xlabel(r'$N_{BG}$')\n",
    "    ax.set_ylabel('Counts')\n",
    "    ax.set_title(r'10 x $N_{\\gamma}$='+tenbase_format(events))\n",
    "    \n",
    "    plt.savefig(r'total_weigh_'+tenbase_format(events)+'_events'+str(en.energy)+'KeV.pdf')\n",
    "\n",
    "    plt.show()\n",
    "\n",
    "    #plt.close()"
   ]
  },
  {
   "cell_type": "code",
   "execution_count": 13,
   "metadata": {},
   "outputs": [
    {
     "name": "stdout",
     "output_type": "stream",
     "text": [
      "1\n",
      "2\n",
      "3\n",
      "4\n",
      "5\n",
      "6\n",
      "7\n",
      "8\n",
      "9\n",
      "10\n",
      "1\n",
      "2\n",
      "3\n",
      "4\n",
      "5\n",
      "6\n",
      "7\n",
      "8\n",
      "9\n",
      "10\n"
     ]
    },
    {
     "data": {
      "image/png": "[encoded data removed]",
      "text/plain": [
       "<Figure size 648x400.486 with 1 Axes>"
      ]
     },
     "metadata": {},
     "output_type": "display_data"
    }
   ],
   "source": [
    "mk_plot(10000,nbins=100,marge=0)\n"
   ]
  },
  {
   "cell_type": "code",
   "execution_count": null,
   "metadata": {},
   "outputs": [],
   "source": [
    "mk_plot(100000,bins=100,marge=0)\n",
    "mk_plot(1000000,bins=100,marge=0)\n",
    "mk_plot(10000000,bins=100,marge=0)"
   ]
  },
  {
   "cell_type": "code",
   "execution_count": null,
   "metadata": {},
   "outputs": [],
   "source": []
  }
 ],
 "metadata": {
  "kernelspec": {
   "display_name": "Python 3",
   "language": "python",
   "name": "python3"
  },
  "language_info": {
   "codemirror_mode": {
    "name": "ipython",
    "version": 3
   },
   "file_extension": ".py",
   "mimetype": "text/x-python",
   "name": "python",
   "nbconvert_exporter": "python",
   "pygments_lexer": "ipython3",
   "version": "3.6.5"
  }
 },
 "nbformat": 4,
 "nbformat_minor": 2
}

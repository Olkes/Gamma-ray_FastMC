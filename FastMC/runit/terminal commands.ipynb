{
 "cells": [
  {
   "cell_type": "markdown",
   "metadata": {},
   "source": [
    "**The routine to submit bash jobs**\n",
    "\n",
    "1.  Make sure that you list the jobs that you want to submit in the excel file, jobs.xlsx and save the file.\n",
    "2.  Go to directory \"runit\"\n",
    "3.  Execute the test_submit.sh shell script by the command:  ```bash test_submit.sh```\n",
    "4.  Update the excel file jobs_master.xlsx (copy and paste the lines of the jobs.xlsx in this sheet)\n",
    "\n",
    "  \n",
    "\n",
    "**Set up**\n",
    "\n",
    "This routine makes use of a virtual environment of Joran Angevaare called \"fastMC\"\n",
    "\n",
    "  \n",
    "\n",
    "**Basic structure routine**\n",
    "\n",
    "The structure is a bit overcomplicated but its build-up as follows\n",
    "\n",
    "1.  test_submit.sh is the shell script that calls the environment and executes the python code generate_jobs.py\n",
    "2.  generate_jobs.py is the routine that makes a job and sends it to the stoomboot queue\n",
    "3.  The jobs start the actual simulation trough the MC_run.py routine.\n"
   ]
  },
  {
   "cell_type": "code",
   "execution_count": 1,
   "metadata": {},
   "outputs": [],
   "source": [
    "!qstat -u olkes #check status of jobs "
   ]
  },
  {
   "cell_type": "markdown",
   "metadata": {},
   "source": [
    "**KILL Jobs**"
   ]
  },
  {
   "cell_type": "markdown",
   "metadata": {},
   "source": [
    "Not the most elegant way of killing jobs.\n",
    "Fill in the first job and the last that you want to terminate "
   ]
  },
  {
   "cell_type": "code",
   "execution_count": 1,
   "metadata": {},
   "outputs": [],
   "source": [
    "first_job = 3452381 # stoomboot job ID\n",
    "last_job = 3452435 # stoomboot job ID\n",
    "# for i in range(first_job, last_job+1):\n",
    "#     !qdel $i"
   ]
  },
  {
   "cell_type": "markdown",
   "metadata": {},
   "source": [
    "**Dell data files**"
   ]
  },
  {
   "cell_type": "code",
   "execution_count": null,
   "metadata": {},
   "outputs": [],
   "source": [
    "first_file = 3452381 # our own job ID\n",
    "last_file = 3452435 # our own job ID\n",
    "# for i in range(first_file,last_file+1):\n",
    "#     !rm -f /dcache/xenon/olkes/sigma_study/MC{i}.csv"
   ]
  },
  {
   "cell_type": "code",
   "execution_count": null,
   "metadata": {},
   "outputs": [],
   "source": []
  },
  {
   "cell_type": "code",
   "execution_count": 3,
   "metadata": {},
   "outputs": [],
   "source": [
    "\n",
    "    "
   ]
  },
  {
   "cell_type": "code",
   "execution_count": null,
   "metadata": {},
   "outputs": [],
   "source": []
  },
  {
   "cell_type": "code",
   "execution_count": null,
   "metadata": {},
   "outputs": [],
   "source": []
  },
  {
   "cell_type": "code",
   "execution_count": null,
   "metadata": {},
   "outputs": [],
   "source": []
  },
  {
   "cell_type": "code",
   "execution_count": null,
   "metadata": {},
   "outputs": [],
   "source": []
  },
  {
   "cell_type": "code",
   "execution_count": null,
   "metadata": {},
   "outputs": [],
   "source": []
  }
 ],
 "metadata": {
  "kernelspec": {
   "display_name": "Python 3",
   "language": "python",
   "name": "python3"
  },
  "language_info": {
   "codemirror_mode": {
    "name": "ipython",
    "version": 3
   },
   "file_extension": ".py",
   "mimetype": "text/x-python",
   "name": "python",
   "nbconvert_exporter": "python",
   "pygments_lexer": "ipython3",
   "version": "3.6.5"
  }
 },
 "nbformat": 4,
 "nbformat_minor": 2
}

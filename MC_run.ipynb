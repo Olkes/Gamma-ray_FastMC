{
 "cells": [
  {
   "cell_type": "markdown",
   "metadata": {},
   "source": [
    "## Test of accelerated Monte Carlo ##"
   ]
  },
  {
   "cell_type": "code",
   "execution_count": 1,
   "metadata": {},
   "outputs": [],
   "source": [
    "from particle import particle\n",
    "from physics import em_physics\n",
    "from cylinder import cylinder\n",
    "\n",
    "import matplotlib.pyplot as plt\n",
    "import numpy as np\n",
    "from numba import jit\n",
    "import pandas as pd\n",
    "\n",
    "%matplotlib inline"
   ]
  },
  {
   "cell_type": "markdown",
   "metadata": {},
   "source": [
    "### Define the Geometry ###"
   ]
  },
  {
   "cell_type": "code",
   "execution_count": 2,
   "metadata": {},
   "outputs": [
    {
     "name": "stdout",
     "output_type": "stream",
     "text": [
      "cylinder::__init__ Define cylinder with R= 50  and height= 100\n",
      "cylinder::__init__ Define cylinder with R= 40  and height= 80\n"
     ]
    }
   ],
   "source": [
    "# define the geometry\n",
    "radius = 50 # cm\n",
    "height = 100 #cm\n",
    "cryostat = cylinder(R=radius,h=height)\n",
    "\n",
    "radius = 40 # cm\n",
    "height = 80 #cm\n",
    "fiducial = cylinder(R=radius,h=height)"
   ]
  },
  {
   "cell_type": "markdown",
   "metadata": {},
   "source": [
    "### Setup the photon physics ###"
   ]
  },
  {
   "cell_type": "code",
   "execution_count": 3,
   "metadata": {},
   "outputs": [],
   "source": [
    "# define the physics\n",
    "em = em_physics()"
   ]
  },
  {
   "cell_type": "markdown",
   "metadata": {},
   "source": [
    "### Event generation ###"
   ]
  },
  {
   "cell_type": "code",
   "execution_count": 10,
   "metadata": {},
   "outputs": [
    {
     "name": "stdout",
     "output_type": "stream",
     "text": [
      "generated  0  events\n",
      "generated  10000  events\n",
      "generated  20000  events\n",
      "generated  30000  events\n",
      "generated  40000  events\n",
      "generated  50000  events\n",
      "generated  60000  events\n",
      "generated  70000  events\n",
      "generated  80000  events\n",
      "generated  90000  events\n"
     ]
    }
   ],
   "source": [
    "nevent = 100000\n",
    "energy = 1000 # keV\n",
    "\n",
    "edep = []\n",
    "nint = []\n",
    "x = []\n",
    "y = []\n",
    "z = []\n",
    "\n",
    "for ieve in range(nevent):\n",
    "    if ieve%10000 == 0:\n",
    "        print(\"generated \",ieve,\" events\")\n",
    "    # make a particle\n",
    "    p = particle(type='gamma',energy=energy, geometry=cryostat, fiducial=fiducial, physics=em)\n",
    "    # propogate the particle and retrieve the intersection points\n",
    "    p.propagate()\n",
    "    # plots\n",
    "    nint.append(p.nscatter)\n",
    "    if p.nscatter > 0:\n",
    "        edep.append(p.edep)\n",
    "    for i in range(len(p.xint)):\n",
    "        if p.edep < 250:\n",
    "            x.append(p.xint[i][0][0])\n",
    "            y.append(p.xint[i][0][1])\n",
    "            z.append(p.xint[i][0][2])"
   ]
  },
  {
   "cell_type": "markdown",
   "metadata": {},
   "source": [
    "### Plotting ###"
   ]
  },
  {
   "cell_type": "code",
   "execution_count": 11,
   "metadata": {},
   "outputs": [
    {
     "data": {
      "image/png": "[encoded data removed]",
      "text/plain": [
       "<Figure size 432x288 with 1 Axes>"
      ]
     },
     "metadata": {
      "needs_background": "light"
     },
     "output_type": "display_data"
    }
   ],
   "source": [
    "h=plt.hist2d(x,y,bins=(50,50))"
   ]
  },
  {
   "cell_type": "code",
   "execution_count": 13,
   "metadata": {},
   "outputs": [
    {
     "data": {
      "image/png": "[encoded data removed]",
      "text/plain": [
       "<Figure size 432x288 with 1 Axes>"
      ]
     },
     "metadata": {
      "needs_background": "light"
     },
     "output_type": "display_data"
    }
   ],
   "source": [
    "r2 = np.array(x)**2+np.array(y)**2\n",
    "h2 = plt.hist2d(r2,z,bins=(50,50))"
   ]
  },
  {
   "cell_type": "code",
   "execution_count": 14,
   "metadata": {},
   "outputs": [
    {
     "data": {
      "image/png": "[encoded data removed]",
      "text/plain": [
       "<Figure size 432x288 with 1 Axes>"
      ]
     },
     "metadata": {
      "needs_background": "light"
     },
     "output_type": "display_data"
    }
   ],
   "source": [
    "h=plt.hist(edep,bins=250)\n",
    "plt.xlim([0,1100])\n",
    "ax = plt.gca()\n",
    "ax.set_yscale('log')"
   ]
  },
  {
   "cell_type": "code",
   "execution_count": 15,
   "metadata": {},
   "outputs": [
    {
     "data": {
      "image/png": "[encoded data removed]",
      "text/plain": [
       "<Figure size 432x288 with 1 Axes>"
      ]
     },
     "metadata": {
      "needs_background": "light"
     },
     "output_type": "display_data"
    }
   ],
   "source": [
    "h=plt.hist(nint,bins=11,range=(-0.5,10.5))\n",
    "ax = plt.gca()\n",
    "ax.set_yscale('log')"
   ]
  }
 ],
 "metadata": {
  "kernelspec": {
   "display_name": "Python 3",
   "language": "python",
   "name": "python3"
  },
  "language_info": {
   "codemirror_mode": {
    "name": "ipython",
    "version": 3
   },
   "file_extension": ".py",
   "mimetype": "text/x-python",
   "name": "python",
   "nbconvert_exporter": "python",
   "pygments_lexer": "ipython3",
   "version": "3.7.1"
  }
 },
 "nbformat": 4,
 "nbformat_minor": 2
}

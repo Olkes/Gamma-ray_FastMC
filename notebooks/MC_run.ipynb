{
 "cells": [
  {
   "cell_type": "markdown",
   "metadata": {},
   "source": [
    "## Test of accelerated Monte Carlo ##"
   ]
  },
  {
   "cell_type": "code",
   "execution_count": 1,
   "metadata": {},
   "outputs": [],
   "source": [
    "import sys\n",
    "sys.path.insert(0, \"../python/\")\n",
    "\n",
    "from particle import particle\n",
    "from physics import em_physics\n",
    "from cylinder import cylinder\n",
    "\n",
    "import matplotlib.pyplot as plt\n",
    "import numpy as np\n",
    "from numba import jit\n",
    "import pandas as pd\n",
    "\n",
    "import json\n",
    "import uproot"
   ]
  },
  {
   "cell_type": "markdown",
   "metadata": {},
   "source": [
    "### Define the Geometry ###"
   ]
  },
  {
   "cell_type": "code",
   "execution_count": 2,
   "metadata": {},
   "outputs": [
    {
     "name": "stdout",
     "output_type": "stream",
     "text": [
      "cylinder::__init__ Define cylinder with R= 50  and height= 100\n",
      "cylinder::__init__ Define cylinder with R= 40  and height= 80\n"
     ]
    }
   ],
   "source": [
    "# define the geometry\n",
    "radius = 50 # cm\n",
    "height = 100 #cm\n",
    "cryostat = cylinder(R=radius,h=height)\n",
    "\n",
    "radius = 40 # cm\n",
    "height = 80 #cm\n",
    "fiducial = cylinder(R=radius,h=height)"
   ]
  },
  {
   "cell_type": "markdown",
   "metadata": {},
   "source": [
    "### Setup the photon physics ###"
   ]
  },
  {
   "cell_type": "code",
   "execution_count": 3,
   "metadata": {},
   "outputs": [],
   "source": [
    "# define the physics\n",
    "em = em_physics()"
   ]
  },
  {
   "cell_type": "markdown",
   "metadata": {},
   "source": [
    "### Event generation ###"
   ]
  },
  {
   "cell_type": "code",
   "execution_count": null,
   "metadata": {},
   "outputs": [
    {
     "name": "stdout",
     "output_type": "stream",
     "text": [
      "generated  0  events\n",
      "generated  25000  events\n",
      "generated  50000  events\n"
     ]
    }
   ],
   "source": [
    "#\n",
    "# number of events\n",
    "#\n",
    "nevent = 1000001\n",
    "#\n",
    "# gamma energy\n",
    "#\n",
    "energy = 1000 # keV\n",
    "#\n",
    "# output filename\n",
    "#\n",
    "#write_mode = 'json'\n",
    "write_mode = 'txt'\n",
    "\n",
    "mcout = '../mcdata/testdata' + '.' + write_mode \n",
    "\n",
    "#\n",
    "# open output data file\n",
    "#\n",
    "f = open(mcout,'w')\n",
    "if write_mode == 'json':\n",
    "    f.write('[\\n')    \n",
    "    \n",
    "#\n",
    "# event generation loop\n",
    "#\n",
    "for ieve in range(nevent):\n",
    "    \n",
    "    if ieve%25000 == 0:\n",
    "        print(\"generated \",ieve,\" events\")\n",
    "    #\n",
    "    # make a particle\n",
    "    #\n",
    "    p = particle(type='gamma',\n",
    "                 energy=energy, \n",
    "                 geometry=cryostat, \n",
    "                 fiducial=fiducial, \n",
    "                 vrt='fiducial_scatter',\n",
    "                 edep_max=250,\n",
    "                 nscatter_max=2,\n",
    "                 physics=em,\n",
    "                 debug=False)\n",
    "    \n",
    "    #\n",
    "    # propagate the particle and retrieve the intersection points\n",
    "    #\n",
    "    p.propagate()\n",
    "\n",
    "    #\n",
    "    # store data\n",
    "    #\n",
    "    if write_mode == 'txt':\n",
    "        wstring = \"{:d} {:d} {:7.6e} {:7.6f} {:7.6f} {:7.6f} {:7.6f} \\n\".format(ieve,len(p.xint), \n",
    "                                                                                p.weight,p.edep,\n",
    "                                                                                p.x0start[0],p.x0start[1],p.x0start[2])\n",
    "        f.write(wstring)\n",
    "    \n",
    "    for i in range(len(p.xint)):\n",
    "        #\n",
    "        # data structure for each energy deposit\n",
    "        #\n",
    "        if write_mode == 'json':\n",
    "            dd = {'x':p.xint[i][0][0],'y':p.xint[i][0][1],'z':p.xint[i][0][2],'de':p.xint[i][1],\n",
    "                  'w':p.weight,'n':p.nscatter}\n",
    "            json.dump(dd,f, sort_keys=True, indent=8)\n",
    "            f.write(',\\n')\n",
    "        else:\n",
    "            wstring = \"{:7.6f} {:7.6f} {:7.6f} {:7.6f} \\n\".format(p.xint[i][0][0],\n",
    "                                                                  p.xint[i][0][1],\n",
    "                                                                  p.xint[i][0][2],\n",
    "                                                                  p.xint[i][1])\n",
    "            f.write(wstring)\n",
    "             \n",
    "#\n",
    "# close output data file\n",
    "#\n",
    "if write_mode == 'json':\n",
    "    f.write('{}]')\n",
    "else:\n",
    "    f.write('-1\\n')\n",
    "    \n",
    "f.close()"
   ]
  },
  {
   "cell_type": "code",
   "execution_count": null,
   "metadata": {},
   "outputs": [],
   "source": []
  },
  {
   "cell_type": "code",
   "execution_count": null,
   "metadata": {},
   "outputs": [],
   "source": []
  }
 ],
 "metadata": {
  "kernelspec": {
   "display_name": "Python 3",
   "language": "python",
   "name": "python3"
  },
  "language_info": {
   "codemirror_mode": {
    "name": "ipython",
    "version": 3
   },
   "file_extension": ".py",
   "mimetype": "text/x-python",
   "name": "python",
   "nbconvert_exporter": "python",
   "pygments_lexer": "ipython3",
   "version": "3.7.1"
  }
 },
 "nbformat": 4,
 "nbformat_minor": 2
}

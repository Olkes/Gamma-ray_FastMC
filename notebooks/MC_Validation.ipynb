{
 "cells": [
  {
   "cell_type": "code",
   "execution_count": 1,
   "metadata": {},
   "outputs": [],
   "source": [
    "import csv\n",
    "import sys\n",
    "sys.path.insert(0, \"../python/\")\n",
    "\n",
    "import collections"
   ]
  },
  {
   "cell_type": "code",
   "execution_count": 2,
   "metadata": {},
   "outputs": [],
   "source": [
    "import random\n",
    "import numpy as np\n",
    "import matplotlib.pyplot as plt\n",
    "from matplotlib import pyplot as pp\n",
    "from scipy.stats import chisquare\n",
    "import os\n",
    "import re\n",
    "import fnmatch\n",
    "import pandas as pd\n",
    "\n",
    "from particle import particle\n",
    "from physics import em_physics\n",
    "from cylinder import cylinder \n",
    "from analysis import analysis "
   ]
  },
  {
   "cell_type": "code",
   "execution_count": null,
   "metadata": {},
   "outputs": [],
   "source": []
  },
  {
   "cell_type": "code",
   "execution_count": null,
   "metadata": {},
   "outputs": [],
   "source": []
  },
  {
   "cell_type": "code",
   "execution_count": 28,
   "metadata": {},
   "outputs": [],
   "source": [
    "#df_vrt = pd.read_csv('../mcdata/reference files/Reference10000000.csv', names=['#', 'nscatters', 'w', 'de', 'x0', 'y0', 'z0', 'x1', 'y1', 'z1', 'de1', 'x2','y2','z2', 'de2', 'x3', 'y3', 'z3', 'de3', 'x4', 'y4', 'z4', 'de4'],error_bad_lines=False)\n",
    "df_nonvrt = pd.read_csv('../mcdata/reference files/reference_nonvrt10000001.csv', names=['#', 'nscatters', 'w', 'de', 'x0', 'y0', 'z0', 'x1', 'y1', 'z1', 'de1', 'x2','y2','z2', 'de2', 'x3', 'y3', 'z3', 'de3', 'x4', 'y4', 'z4', 'de4'],error_bad_lines=False)\n",
    "df_vrt_largefid = pd.read_csv('../mcdata/reference files/reference_largefiducial10000002.csv', names=['#', 'nscatters', 'w', 'de', 'x0', 'y0', 'z0', 'x1', 'y1', 'z1', 'de1', 'x2','y2','z2', 'de2', 'x3', 'y3', 'z3', 'de3', 'x4', 'y4', 'z4', 'de4'],error_bad_lines=False)\n",
    "\n",
    "\n",
    "#df_vrt.insert(10, 'r2_1', df_vrt['x1']**2 + df_vrt['y1']**2)\n",
    "df_nonvrt.insert(10, 'r2_1', df_nonvrt['x1']**2 + df_nonvrt['y1']**2)\n",
    "df_vrt_largefid.insert(10, 'r2_1', df_vrt_largefid['x1']**2 + df_vrt_largefid['y1']**2)"
   ]
  },
  {
   "cell_type": "code",
   "execution_count": null,
   "metadata": {},
   "outputs": [],
   "source": []
  },
  {
   "cell_type": "code",
   "execution_count": 45,
   "metadata": {},
   "outputs": [],
   "source": [
    "scatter_cut=((df_nonvrt['nscatters']==1)&(df_nonvrt['r2_1']<4096)&(np.abs(df_nonvrt['z1'])<74)&(df_nonvrt['de']<2500))\n",
    "scatter_cut_vrt=((df_vrt_largefid['nscatters']==1)&(df_vrt_largefid['r2_1']<4096)&(np.abs(df_vrt_largefid['z1'])<74))\n",
    "\n",
    "df_nonvrt_cut=df_nonvrt[scatter_cut]\n",
    "df_vrt_cut=df_vrt_largefid[scatter_cut_vrt]"
   ]
  },
  {
   "cell_type": "code",
   "execution_count": 46,
   "metadata": {},
   "outputs": [
    {
     "data": {
      "text/plain": [
       "(642522, 24)"
      ]
     },
     "execution_count": 46,
     "metadata": {},
     "output_type": "execute_result"
    }
   ],
   "source": [
    "df_nonvrt_cut.shape"
   ]
  },
  {
   "cell_type": "code",
   "execution_count": 47,
   "metadata": {},
   "outputs": [
    {
     "name": "stdout",
     "output_type": "stream",
     "text": [
      "1\n"
     ]
    },
    {
     "data": {
      "text/plain": [
       "Text(0, 0.5, 'Counts / 25.0 kev')"
      ]
     },
     "execution_count": 47,
     "metadata": {},
     "output_type": "execute_result"
    },
    {
     "data": {
      "image/png": "[encoded data removed]",
      "text/plain": [
       "<Figure size 432x288 with 1 Axes>"
      ]
     },
     "metadata": {
      "needs_background": "light"
     },
     "output_type": "display_data"
    }
   ],
   "source": [
    "nb=100\n",
    "#plotarray_vrt=plt.hist(df_vrt['de1'],weights=df_vrt['w'],bins=nb,histtype='step')\n",
    "plotarray_nonvrt=plt.hist(df_nonvrt_cut['de1'],weights=df_nonvrt_cut['w'],bins=nb,range=(0,2500),histtype='step')\n",
    "plt.clf()\n",
    "\n",
    "#plot large vid vrt\n",
    "plotarray_largefid=plt.hist(df_vrt_cut['de1'],weights=df_vrt_cut['w'],bins=nb,range=(0,2500),histtype='step')\n",
    "\n",
    "#calculate scaling\n",
    "#scaling=sum(plotarray_largefid[0])/sum(plotarray_nonvrt[0])\n",
    "scaling=1\n",
    "\n",
    "\n",
    "print(scaling)\n",
    "\n",
    "#scale nonvrt hist\n",
    "ref=plotarray_nonvrt[0]*scaling\n",
    "y=np.append(ref,0)\n",
    "plt.plot(plotarray_nonvrt[1],y,drawstyle='steps-post')\n",
    "\n",
    "\n",
    "plt.yscale('log')\n",
    "plt.legend(('nonvrt','large fiducial'),loc='upper left')\n",
    "\n",
    "plt.xlabel('$E_{dep}$ in fiducial (keV)')\n",
    "plt.ylabel('Counts / '+str(round(plotarray_largefid[1][-1])/nb)+' kev')"
   ]
  },
  {
   "cell_type": "code",
   "execution_count": 55,
   "metadata": {},
   "outputs": [
    {
     "name": "stdout",
     "output_type": "stream",
     "text": [
      "total weight non vrt = 642522.0\n",
      "total weight large fiducial= 643089.8881210526\n",
      "567.8881210526451\n"
     ]
    }
   ],
   "source": [
    "total_nonvrt=sum(plotarray_nonvrt[0])\n",
    "total_vrt=sum(plotarray_largefid[0])\n",
    "\n",
    "\n",
    "print('total weight non vrt = '+str(total_nonvrt))\n",
    "print('total weight large fiducial= '+str(total_vrt))\n",
    "print(total_vrt-total_nonvrt)"
   ]
  },
  {
   "cell_type": "code",
   "execution_count": 54,
   "metadata": {},
   "outputs": [
    {
     "name": "stdout",
     "output_type": "stream",
     "text": [
      "chi2 of normal mc 1.1577932155508848\n"
     ]
    }
   ],
   "source": [
    "masked_ref=np.ma.masked_where(ref==0, ref)\n",
    "\n",
    "chi2_nmc=chisquare(plotarray_largefid[0],f_exp=masked_ref)[0]/masked_ref.count()\n",
    "\n",
    "#print('number of events 10^(',np.log10(nevents),') & scatter ',nscatter)\n",
    "#print('chi2 of fast mc',chi2_fmc)\n",
    "print('chi2 of normal mc',chi2_nmc)\n",
    "#print('total of fast mc:',sum(fastMC[0]),'total of normal mc:',sum(normalMC[0]),'and ref total',sum(ref))"
   ]
  },
  {
   "cell_type": "markdown",
   "metadata": {},
   "source": [
    "## with normal fiducial vol##"
   ]
  },
  {
   "cell_type": "code",
   "execution_count": 58,
   "metadata": {},
   "outputs": [],
   "source": [
    "df_vrt = pd.read_csv('../mcdata/reference files/Reference10000000.csv', names=['#', 'nscatters', 'w', 'de', 'x0', 'y0', 'z0', 'x1', 'y1', 'z1', 'de1', 'x2','y2','z2', 'de2', 'x3', 'y3', 'z3', 'de3', 'x4', 'y4', 'z4', 'de4'],error_bad_lines=False)\n",
    "df_nonvrt = pd.read_csv('../mcdata/reference files/reference_nonvrt10000001.csv', names=['#', 'nscatters', 'w', 'de', 'x0', 'y0', 'z0', 'x1', 'y1', 'z1', 'de1', 'x2','y2','z2', 'de2', 'x3', 'y3', 'z3', 'de3', 'x4', 'y4', 'z4', 'de4'],error_bad_lines=False)\n"
   ]
  },
  {
   "cell_type": "code",
   "execution_count": 59,
   "metadata": {},
   "outputs": [],
   "source": [
    "df_vrt.insert(10, 'r2_1', df_vrt['x1']**2 + df_vrt['y1']**2)\n",
    "df_nonvrt.insert(10, 'r2_1', df_nonvrt['x1']**2 + df_nonvrt['y1']**2)"
   ]
  },
  {
   "cell_type": "code",
   "execution_count": 60,
   "metadata": {},
   "outputs": [],
   "source": [
    "scatter_cut=((df_nonvrt['nscatters']==1)&(df_nonvrt['r2_1']<3249)&(np.abs(df_nonvrt['z1'])<67))\n",
    "df_nonvrt_cut=df_nonvrt[scatter_cut]\n"
   ]
  },
  {
   "cell_type": "code",
   "execution_count": null,
   "metadata": {},
   "outputs": [],
   "source": []
  },
  {
   "cell_type": "code",
   "execution_count": 62,
   "metadata": {},
   "outputs": [
    {
     "data": {
      "text/plain": [
       "Text(0, 0.5, 'Counts / 25.0 kev')"
      ]
     },
     "execution_count": 62,
     "metadata": {},
     "output_type": "execute_result"
    },
    {
     "data": {
      "image/png": "[encoded data removed]",
      "text/plain": [
       "<Figure size 432x288 with 1 Axes>"
      ]
     },
     "metadata": {
      "needs_background": "light"
     },
     "output_type": "display_data"
    }
   ],
   "source": [
    "nb=100\n",
    "plotarray_vrt=plt.hist(df_vrt['de1'],weights=df_vrt['w'],bins=nb,histtype='step')\n",
    "plotarray_nonvrt=plt.hist(df_nonvrt_cut['de1'],weights=df_nonvrt_cut['w'],bins=nb,range=(0,2500),histtype='step')\n",
    "\n",
    "\n",
    "\n",
    "\n",
    "plt.yscale('log')\n",
    "plt.legend(('vrt','non vrt'),loc='upper left')\n",
    "\n",
    "plt.xlabel('$E_{dep}$ in fiducial (keV)')\n",
    "plt.ylabel('Counts / '+str(round(plotarray_largefid[1][-1])/nb)+' kev')"
   ]
  },
  {
   "cell_type": "code",
   "execution_count": null,
   "metadata": {},
   "outputs": [],
   "source": []
  },
  {
   "cell_type": "code",
   "execution_count": null,
   "metadata": {},
   "outputs": [],
   "source": []
  },
  {
   "cell_type": "code",
   "execution_count": null,
   "metadata": {},
   "outputs": [],
   "source": []
  },
  {
   "cell_type": "code",
   "execution_count": null,
   "metadata": {},
   "outputs": [],
   "source": []
  },
  {
   "cell_type": "code",
   "execution_count": null,
   "metadata": {},
   "outputs": [],
   "source": []
  }
 ],
 "metadata": {
  "kernelspec": {
   "display_name": "Python 3",
   "language": "python",
   "name": "python3"
  },
  "language_info": {
   "codemirror_mode": {
    "name": "ipython",
    "version": 3
   },
   "file_extension": ".py",
   "mimetype": "text/x-python",
   "name": "python",
   "nbconvert_exporter": "python",
   "pygments_lexer": "ipython3",
   "version": "3.7.3"
  }
 },
 "nbformat": 4,
 "nbformat_minor": 2
}

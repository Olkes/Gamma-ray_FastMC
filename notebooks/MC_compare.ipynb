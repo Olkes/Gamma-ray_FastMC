{
 "cells": [
  {
   "cell_type": "markdown",
   "metadata": {},
   "source": [
    "## Fast MC plotting ##"
   ]
  },
  {
   "cell_type": "code",
   "execution_count": 2,
   "metadata": {},
   "outputs": [],
   "source": [
    "import json\n",
    "import pandas as pd\n",
    "import numpy as np\n",
    "\n",
    "import matplotlib.pyplot as plt\n",
    "%matplotlib inline"
   ]
  },
  {
   "cell_type": "markdown",
   "metadata": {},
   "source": [
    "Load the .json file with the Monte Carlo result"
   ]
  },
  {
   "cell_type": "code",
   "execution_count": null,
   "metadata": {},
   "outputs": [],
   "source": [
    "df_vrt = pd.read_json('../mcdata/mc_reduce_variance.json').dropna()\n",
    "df_vrt_noform = pd.read_json('../mcdata/mc_reduce_variance_noform.json').dropna()\n",
    "df_std = pd.read_json('../mcdata/mc_plain.json').dropna()"
   ]
  },
  {
   "cell_type": "markdown",
   "metadata": {},
   "source": [
    "Plot the energy distribution for both the standard and for the accelerated MC. For the standard MOnte Carlo the same fiducial cuts need to be applied as implemented in the accelerated version."
   ]
  },
  {
   "cell_type": "code",
   "execution_count": null,
   "metadata": {},
   "outputs": [],
   "source": [
    "r2 = df_std['x']**2+df_std['y']**2\n",
    "df_std_cut = df_std[(df_std['de']<250) & (r2<1600) & (np.abs(df_std['z'])<40) & (df_std['n']==1)]  "
   ]
  },
  {
   "cell_type": "code",
   "execution_count": null,
   "metadata": {},
   "outputs": [],
   "source": [
    "nb = 100\n",
    "plt.figure(figsize=(8,4))\n",
    "x_vrt=plt.hist(df_vrt['de'],weights=df_vrt['w'],bins=nb, histtype='step')\n",
    "x_std=plt.hist(df_std_cut['de'],weights=df_std_cut['w'],bins=nb, histtype='step')\n",
    "#plt.xlim([0,10])\n",
    "#plt.ylim([0,0.02])\n",
    "plt.xlabel('$E_{dep}$ in fiducial (keV)')\n",
    "plt.yscale('linear')\n"
   ]
  },
  {
   "cell_type": "code",
   "execution_count": null,
   "metadata": {},
   "outputs": [],
   "source": [
    "print('standard MC total number of events',int(np.sum(df_std_cut['w'])), ' variance = ',x_std[0].std())\n",
    "print('variance reduced total weight = ',np.sum(df_vrt['w']),' variance = ',x_vrt[0].std())\n",
    "print('variance ratio = ',x_std[0].std()/x_vrt[0].std())"
   ]
  },
  {
   "cell_type": "code",
   "execution_count": null,
   "metadata": {},
   "outputs": [],
   "source": [
    "nb = 100\n",
    "plt.figure(figsize=(8,4))\n",
    "plt.hist(df_vrt['de'],weights=df_vrt['w'],bins=nb, histtype='step', color='blue')\n",
    "plt.hist(df_vrt_noform['de'],weights=df_vrt_noform['w'],bins=nb, histtype='step', color='green', linestyle='dashed')\n",
    "\n",
    "plt.xlabel('$E_{dep}$ in fiducial (keV)')\n",
    "plt.yscale('log')\n",
    "plt.legend(('with form factor','without form factor'))"
   ]
  }
 ],
 "metadata": {
  "kernelspec": {
   "display_name": "Python 3",
   "language": "python",
   "name": "python3"
  },
  "language_info": {
   "codemirror_mode": {
    "name": "ipython",
    "version": 3
   },
   "file_extension": ".py",
   "mimetype": "text/x-python",
   "name": "python",
   "nbconvert_exporter": "python",
   "pygments_lexer": "ipython3",
   "version": "3.7.1"
  }
 },
 "nbformat": 4,
 "nbformat_minor": 2
}
